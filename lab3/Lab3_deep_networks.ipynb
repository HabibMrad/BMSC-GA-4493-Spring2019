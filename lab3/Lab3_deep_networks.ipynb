{
 "cells": [
  {
   "cell_type": "markdown",
   "metadata": {},
   "source": [
    "# Lab 3: Deep Networks"
   ]
  },
  {
   "cell_type": "code",
   "execution_count": 1,
   "metadata": {},
   "outputs": [],
   "source": [
    "import numpy as np\n",
    "from sklearn.model_selection import train_test_split\n",
    "import matplotlib.pyplot as plt\n",
    "import torch\n",
    "from torch import nn\n",
    "from torch import optim"
   ]
  },
  {
   "cell_type": "code",
   "execution_count": 2,
   "metadata": {},
   "outputs": [],
   "source": [
    "# Let's define helper functions\n",
    "def plot_loss(res):\n",
    "    best_theta, train_loss, test_loss = res\n",
    "    x = np.arange(train_loss.shape[0])\n",
    "    if len(train_loss.shape) == 2:\n",
    "        train_loss = np.mean(train_loss, axis=1)\n",
    "    if len(test_loss.shape) == 2:\n",
    "        test_loss = np.mean(test_loss, axis=1)\n",
    "        \n",
    "    plt.plot(x, train_loss, label=\"Train Loss\")\n",
    "    plt.plot(x, test_loss, label=\"Test Loss\")\n",
    "    \n",
    "    plt.xlabel('Epochs/Steps')\n",
    "    plt.ylabel('Loss')\n",
    "\n",
    "    plt.legend()\n",
    "    plt.show()"
   ]
  },
  {
   "cell_type": "markdown",
   "metadata": {},
   "source": [
    "## Create Data\n",
    "\n",
    "Input X - a 2D numpy array of size (num_samples, num_features) sampled from standard normal distribution. $X \\sim \\mathcal{N}(0, 1)\\,$\n",
    "\n",
    "Weight w - a 1D numpy array of size (num_features) sampled from standard normal distribution. $w \\sim \\mathcal{N}(0, 1)\\,$\n",
    "\n",
    "Target y - a 1D numpy array of size (num_samples) generated from polynomials of columns of X, specifically,\n",
    "$$y = \\sum_{i=1}^{T}w_{i}x_{i}^{i}\\, ,$$\n",
    "\n",
    "where $T=$num_features, $x_{i}$ denotes the ith column of $X$\n",
    "\n",
    "For example, if num_features=3 and $w=(3, 2, 1)^{T}$, then $y=x_{2}^{2} + 2x_{1} + 3$"
   ]
  },
  {
   "cell_type": "code",
   "execution_count": 3,
   "metadata": {},
   "outputs": [],
   "source": [
    "def polynomial(num_features, num_samples):\n",
    "    w = np.random.normal(0, 1, (num_features,))\n",
    "    X = np.random.normal(0, 1, (num_samples, num_features))\n",
    "    y = 0\n",
    "    for i in range(len(w)):\n",
    "        y += w[i]*X[:, i]**i\n",
    "        \n",
    "    return (X, y)\n",
    "\n",
    "def generate_data(num_features, num_samples, test_ratio=0.1):\n",
    "    X, y = polynomial(num_features, num_samples)\n",
    "    X_train, X_test, y_train, y_test = train_test_split(X, y, test_size=int(num_samples * test_ratio))\n",
    "    \n",
    "    return [X_train, X_test, y_train, y_test]"
   ]
  },
  {
   "cell_type": "code",
   "execution_count": 4,
   "metadata": {},
   "outputs": [],
   "source": [
    "# Generate default dataset with 3 features (degree 2) and 10000 samples\n",
    "data_deg2 = generate_data(3, int(1e4))"
   ]
  },
  {
   "cell_type": "markdown",
   "metadata": {},
   "source": [
    "## Batch Gradient Descent\n",
    "\n",
    "Let's first try to approximate this function with linear regression using gradient descent\n",
    "\n",
    "Recall that in linear regression:\n",
    "$$f(x) = X\\theta$$\n",
    "\n",
    "The $L_{2}$ lost function, given $n$ samples:\n",
    "\n",
    "$$J(\\theta) = \\frac{1}{n}\\|X\\theta - y\\|_{2}^{2}$$\n",
    "\n",
    "The gradient of the lost function (for back propagation):\n",
    "\n",
    "$$\\nabla J(\\theta) = \\frac{2}{m}X^{T}(X\\theta - y)$$\n",
    "\n",
    "We update parameter $\\theta$ by\n",
    "\n",
    "$$\\theta = \\theta - \\alpha \\times \\nabla J(\\theta)$$\n",
    "\n",
    "Where $\\alpha$ is the step size"
   ]
  },
  {
   "cell_type": "code",
   "execution_count": 5,
   "metadata": {},
   "outputs": [],
   "source": [
    "### The square loss function\n",
    "def compute_loss(X, y, theta):\n",
    "    \"\"\"\n",
    "    Given a set of X, y, theta, compute the average square loss for predicting y with X*theta.\n",
    "\n",
    "    Args:\n",
    "        X - the feature vector, 2D numpy array of size (num_samples, num_features)\n",
    "        y - the label vector, 1D numpy array of size (num_samples)\n",
    "        theta - the parameter vector, 1D array of size (num_samples)\n",
    "\n",
    "    Returns:\n",
    "        loss - the average square loss, scalar\n",
    "    \"\"\"\n",
    "    loss = 0 #Initialize the average square loss\n",
    "    \n",
    "    ################ Your code here ################\n",
    "    m = X.shape[0]\n",
    "    d = (np.dot(X, theta) - y)\n",
    "    loss = np.dot(d, d) / m\n",
    "\n",
    "    return loss\n",
    "\n",
    "### The gradient of the square loss function\n",
    "def compute_gradient(X, y, theta):\n",
    "    \"\"\"\n",
    "    Compute the gradient of the average square loss\n",
    "\n",
    "    Args:\n",
    "        X - the feature vector, 2D numpy array of size (num_samples, num_features)\n",
    "        y - the label vector, 1D numpy array of size (num_samples)\n",
    "        theta - the parameter vector, 1D numpy array of size (num_samples)\n",
    "\n",
    "    Returns:\n",
    "        grad - gradient vector, 1D numpy array of size (num_features)\n",
    "    \"\"\"\n",
    "    \n",
    "    ################ Your code here ################\n",
    "    m = X.shape[0]\n",
    "    d = (np.dot(X, theta) - y)\n",
    "    grad = 2 * np.dot(X.T, d) / m\n",
    "\n",
    "    return grad"
   ]
  },
  {
   "cell_type": "code",
   "execution_count": 6,
   "metadata": {},
   "outputs": [],
   "source": [
    "def batch_grad_descent(data, alpha=0.01, num_step=1000):\n",
    "    \"\"\"\n",
    "    Batch gradient descent to minimize the average square loss objective.\n",
    "\n",
    "    Args:\n",
    "        data - a list of 4 elements [X_train, X_test, y_train, y_test]\n",
    "        alpha - step size in gradient descent\n",
    "        num_step - number of steps to run\n",
    "\n",
    "    Returns:\n",
    "        best_theta - the set of parameters that achieves smallest loss on test data\n",
    "        train_loss_hist - the history of average square loss on training data, 1D numpy array, (num_step)\n",
    "        test_loss_hist - the history of average square loss on testing data, 1D numpy array, (num_step)\n",
    "    \"\"\"\n",
    "    # Initialization\n",
    "    X_train, X_test, y_train, y_test = data\n",
    "\n",
    "    num_features = X_train.shape[1]\n",
    "    theta = np.zeros(num_features)\n",
    "    \n",
    "    # Track performance\n",
    "    best_test_loss = float('Inf')\n",
    "    best_theta = theta\n",
    "    test_loss_hist = np.zeros(num_step)\n",
    "    train_loss_hist = np.zeros(num_step)\n",
    "    \n",
    "    ################ Your code here ################\n",
    "    # Training loop\n",
    "    for i in range(num_step):\n",
    "        grad = compute_gradient(X_train, y_train, theta)\n",
    "        theta = theta - alpha * grad\n",
    "        train_loss_hist[i] = compute_loss(X_train, y_train, theta)\n",
    "        test_loss_hist[i] = compute_loss(X_test, y_test, theta)\n",
    "        \n",
    "        if test_loss_hist[i] < best_test_loss:\n",
    "            best_theta = theta\n",
    "\n",
    "\n",
    "    return (best_theta, train_loss_hist, test_loss_hist)"
   ]
  },
  {
   "cell_type": "code",
   "execution_count": 7,
   "metadata": {},
   "outputs": [
    {
     "data": {
      "image/png": "[encoded data removed]",
      "text/plain": [
       "<Figure size 432x288 with 1 Axes>"
      ]
     },
     "metadata": {
      "needs_background": "light"
     },
     "output_type": "display_data"
    }
   ],
   "source": [
    "res = batch_grad_descent(data_deg2)\n",
    "plot_loss(res)"
   ]
  },
  {
   "cell_type": "markdown",
   "metadata": {},
   "source": [
    "## Minibatch Gradient Descent\n",
    "\n",
    "Batch gradient descent with very large training data can take a very long time to compute, since it requires looking at each training example to take a single gradient step. Hence in reality, we often use minibatch gradient descent. \n",
    "\n",
    "One pass through the training data is called an **epoch**. In each epoch, training data are divided into minibatches after **random shuffling**. During training, we sweep through the whole training set one minibatch at a time, and at each step, we want to\n",
    "\n",
    "1. perform a parameter update using the **current batch of data**.\n",
    "2. record training loss using the **current batch of data**.\n",
    "3. record testing loss using the whole **testing set**"
   ]
  },
  {
   "cell_type": "code",
   "execution_count": 8,
   "metadata": {},
   "outputs": [],
   "source": [
    "#######################################\n",
    "### Minibatch gradient descent\n",
    "def minibatch_grad_descent(data, batch_size=50, alpha=0.005, num_epoch=50):\n",
    "    \"\"\"\n",
    "    Minibatch gradient descent to minimize the average square loss objective.\n",
    "\n",
    "    Args:\n",
    "        X - A tuple containing two elements (X_train, X_test), \n",
    "            each one of which is a numpy array of size (num_samples, num_features)\n",
    "        y - A tuple containing two elements (y_train, y_test),\n",
    "            each one of which is a numpy array of size (num_samples)\n",
    "        batch_size - the number of samples per batch\n",
    "        alpha - step size in gradient descent\n",
    "        num_step - number of epochs to go through the whole training set\n",
    "\n",
    "    Returns:\n",
    "        best_theta - the set of parameters that achieves smallest loss on test data\n",
    "        train_loss_hist - the history of average square loss on training data, 2D numpy array, (num_epoch, num_batches)\n",
    "        test_loss_hist - the history of average square loss on testing data, 2D numpy array, (num_epoch, num_batches)\n",
    "    \"\"\"\n",
    "    \n",
    "    # Initialization\n",
    "    X_train, X_test, y_train, y_test = data\n",
    "    \n",
    "    num_samples, num_features = X_train.shape\n",
    "    num_batches = int(num_samples / batch_size)\n",
    "    theta = np.ones(num_features) \n",
    "    order = np.arange(num_samples)\n",
    "    step = 0\n",
    "    \n",
    "    # Track performance\n",
    "    best_test_loss = float('Inf')\n",
    "    best_theta = theta\n",
    "    train_loss_hist = np.zeros((num_epoch, num_batches))\n",
    "    test_loss_hist = np.zeros((num_epoch, num_batches))\n",
    "    \n",
    "    np.random.seed(432)\n",
    "    ################ Your code here ################\n",
    "    for i in range(num_epoch):\n",
    "        np.random.shuffle(order)\n",
    "        minibatches = np.array_split(order, num_batches)\n",
    "        for j in range(num_batches):\n",
    "            step += 1\n",
    "            batch = minibatches[j]\n",
    "            \n",
    "            grad = compute_gradient(X_train[batch], y_train[batch], theta)\n",
    "            theta = theta - alpha * grad\n",
    "            train_loss_hist[i, j] = compute_loss(X_train[batch], y_train[batch], theta)\n",
    "            test_loss_hist[i, j] = compute_loss(X_test, y_test, theta)\n",
    "\n",
    "            if test_loss_hist[i, j] < best_test_loss:\n",
    "                best_theta = theta\n",
    "    \n",
    "    return (best_theta, train_loss_hist, test_loss_hist)"
   ]
  },
  {
   "cell_type": "markdown",
   "metadata": {},
   "source": [
    "We observe that using the same dataset, batch gradient descent and minibatch gradient descent give rise to similar results"
   ]
  },
  {
   "cell_type": "code",
   "execution_count": 9,
   "metadata": {},
   "outputs": [
    {
     "data": {
      "image/png": "[encoded data removed]",
      "text/plain": [
       "<Figure size 432x288 with 1 Axes>"
      ]
     },
     "metadata": {
      "needs_background": "light"
     },
     "output_type": "display_data"
    }
   ],
   "source": [
    "res = minibatch_grad_descent(data_deg2)\n",
    "plot_loss(res)"
   ]
  },
  {
   "cell_type": "markdown",
   "metadata": {},
   "source": [
    "## PyTorch Implementation\n",
    "\n",
    "Now we modify *minibatch_grad_descent* to implement the above concept in PyTorch. Pay attention to how loss function and gradient update are implemented in PyTorch."
   ]
  },
  {
   "cell_type": "code",
   "execution_count": 10,
   "metadata": {},
   "outputs": [],
   "source": [
    "################ Your code here ################"
   ]
  },
  {
   "cell_type": "code",
   "execution_count": 11,
   "metadata": {},
   "outputs": [],
   "source": [
    "# Converting data from numpy array to torch tensor\n",
    "def array2tensor(data):\n",
    "    res = []\n",
    "    for d in data:\n",
    "        res.append(torch.from_numpy(d).float())\n",
    "    return res"
   ]
  },
  {
   "cell_type": "code",
   "execution_count": 12,
   "metadata": {},
   "outputs": [],
   "source": [
    "# Training loop in PyTorch\n",
    "def train(data, model, alpha=0.005, batch_size=50, num_epoch=50):\n",
    "    X_train, X_test, y_train, y_test = data\n",
    "    \n",
    "    # Define loss function class, which contains both compute_loss and compute_gradient functionalities\n",
    "    loss_fn = nn.MSELoss(reduction='mean')\n",
    "    # Define method for updating parameters\n",
    "    optimizer = optim.SGD(model.parameters(), lr=alpha)\n",
    "    \n",
    "    num_samples, num_features = X_train.shape\n",
    "    num_batches = int(num_samples / batch_size)\n",
    "    order = np.arange(num_samples)\n",
    "    \n",
    "    # Track performance\n",
    "    best_test_loss = float('Inf')\n",
    "    best_model = None\n",
    "    train_loss_hist = np.zeros((num_epoch, num_batches))\n",
    "    test_loss_hist = np.zeros((num_epoch, num_batches))\n",
    "    \n",
    "    np.random.seed(2)\n",
    "    torch.manual_seed(2)\n",
    "    ################ Your code here ################\n",
    "    for i in range(num_epoch):\n",
    "        np.random.shuffle(order)\n",
    "        minibatches = np.array_split(order, num_batches)\n",
    "\n",
    "        for j in range(num_batches):\n",
    "            # Get batch input data of size (batch_size, num_features)\n",
    "            batch = minibatches[j]\n",
    "\n",
    "            # Set model to training mode and reset gradient\n",
    "            model.train()\n",
    "            model.zero_grad()\n",
    "\n",
    "            # Make model prediction using current batch data\n",
    "            y_pred = model(X_train[batch]).squeeze()\n",
    "            # compute_loss\n",
    "            train_loss = loss_fn(y_pred, y_train[batch])\n",
    "            train_loss_hist[i, j] = train_loss.item()\n",
    "\n",
    "            # compute_gradient\n",
    "            train_loss.backward()\n",
    "            # Step into gradient descent direction. Perform parameter update\n",
    "            optimizer.step()\n",
    "\n",
    "            # Evaluating performance on test set\n",
    "            with torch.no_grad():\n",
    "                model.eval()\n",
    "                test_loss_hist[i, j] = loss_fn(model(X_test).squeeze(), y_test)\n",
    "                # Keep track of the model that gives rise to minimal loss on test data\n",
    "                if test_loss_hist[i, j] < best_test_loss:\n",
    "                    best_model = model.state_dict()\n",
    "                    \n",
    "    return (best_model, train_loss_hist, test_loss_hist)"
   ]
  },
  {
   "cell_type": "code",
   "execution_count": 13,
   "metadata": {},
   "outputs": [
    {
     "data": {
      "image/png": "[encoded data removed]",
      "text/plain": [
       "<Figure size 432x288 with 1 Axes>"
      ]
     },
     "metadata": {
      "needs_background": "light"
     },
     "output_type": "display_data"
    }
   ],
   "source": [
    "# Define network structure in PyTorch\n",
    "class affineNet(nn.Module):\n",
    "    def __init__(self, in_features, out_features=1):\n",
    "        super(affineNet, self).__init__()\n",
    "        self.net = nn.Linear(in_features, out_features)\n",
    "    \n",
    "    def forward(self, x):\n",
    "        out = self.net(x)\n",
    "        return out\n",
    "\n",
    "# Define affineNet model instance with 3 input features\n",
    "model = affineNet(3)\n",
    "res = train(array2tensor(data_deg2), model)\n",
    "plot_loss(res)"
   ]
  },
  {
   "cell_type": "markdown",
   "metadata": {},
   "source": [
    "We know that our target $y$ is the second degree polynomials of X. Hence the above *affineNet*, which only contains one linear transformation, cannot effectively learn the non-linear relationship between $X$ and $y$ (the loss in the above plot does not converge to 0 after 50 training epochs). In the code below, I define another network *DeepNet* of Linear -- ReLU -- Linear. *DeepNet* is better at learning non-linear relationship between $X$ and $y$ (by including ReLU non-linear transformation), and gives rise to lower training and testing loss over 50 training epochs."
   ]
  },
  {
   "cell_type": "code",
   "execution_count": 14,
   "metadata": {},
   "outputs": [
    {
     "data": {
      "image/png": "[encoded data removed]",
      "text/plain": [
       "<Figure size 432x288 with 1 Axes>"
      ]
     },
     "metadata": {
      "needs_background": "light"
     },
     "output_type": "display_data"
    }
   ],
   "source": [
    "class DeepNet(nn.Module):\n",
    "    def __init__(self, in_features, hidden_size=3, out_features=1):\n",
    "        super(DeepNet, self).__init__()\n",
    "        self.net = nn.Sequential(nn.Linear(in_features, hidden_size),\n",
    "                                 nn.ReLU(),\n",
    "                                 nn.Linear(hidden_size, out_features))\n",
    "    \n",
    "    def forward(self, x):\n",
    "        out = self.net(x)\n",
    "        return out\n",
    "    \n",
    "model = DeepNet(3)\n",
    "res = train(array2tensor(data_deg2), model)\n",
    "plot_loss(res)"
   ]
  },
  {
   "cell_type": "markdown",
   "metadata": {},
   "source": [
    "We can make *DeepNet* even more complex by increase the hidden dimension from 3 to 6. This modified model converges faster and achieves lower loss compared to default setting of *DeepNet*"
   ]
  },
  {
   "cell_type": "code",
   "execution_count": 15,
   "metadata": {},
   "outputs": [
    {
     "data": {
      "image/png": "[encoded data removed]",
      "text/plain": [
       "<Figure size 432x288 with 1 Axes>"
      ]
     },
     "metadata": {
      "needs_background": "light"
     },
     "output_type": "display_data"
    }
   ],
   "source": [
    "model = DeepNet(3, hidden_size=6)\n",
    "res = train(array2tensor(data_deg2), model)\n",
    "plot_loss(res)"
   ]
  },
  {
   "cell_type": "markdown",
   "metadata": {},
   "source": [
    "We can approach this problem at a different angle by generating more complex dataset with higher degree polynomials of $X$. *DeepNet* trained on higher degree polynomials of X produces higher loss (y-axis in the two plots below)."
   ]
  },
  {
   "cell_type": "code",
   "execution_count": 16,
   "metadata": {},
   "outputs": [
    {
     "data": {
      "image/png": "[encoded data removed]",
      "text/plain": [
       "<Figure size 432x288 with 1 Axes>"
      ]
     },
     "metadata": {
      "needs_background": "light"
     },
     "output_type": "display_data"
    }
   ],
   "source": [
    "# Polynomial of degree 3\n",
    "data_deg3 = generate_data(4, int(1e4))\n",
    "model = DeepNet(4)\n",
    "res = train(array2tensor(data_deg3), model)\n",
    "plot_loss(res)"
   ]
  },
  {
   "cell_type": "code",
   "execution_count": 17,
   "metadata": {},
   "outputs": [
    {
     "data": {
      "image/png": "[encoded data removed]",
      "text/plain": [
       "<Figure size 432x288 with 1 Axes>"
      ]
     },
     "metadata": {
      "needs_background": "light"
     },
     "output_type": "display_data"
    }
   ],
   "source": [
    "# Polynomial of degree 4\n",
    "data_deg4 = generate_data(5, int(1e4))\n",
    "model = DeepNet(5)\n",
    "res = train(array2tensor(data_deg4), model)\n",
    "plot_loss(res)"
   ]
  }
 ],
 "metadata": {
  "kernelspec": {
   "display_name": "Python 3",
   "language": "python",
   "name": "python3"
  },
  "language_info": {
   "codemirror_mode": {
    "name": "ipython",
    "version": 3
   },
   "file_extension": ".py",
   "mimetype": "text/x-python",
   "name": "python",
   "nbconvert_exporter": "python",
   "pygments_lexer": "ipython3",
   "version": "3.7.2"
  }
 },
 "nbformat": 4,
 "nbformat_minor": 2
}
