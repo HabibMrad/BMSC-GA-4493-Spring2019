{
 "cells": [
  {
   "cell_type": "markdown",
   "metadata": {},
   "source": [
    "# Deep Learning in Medicine\n",
    "### BMSC-GA 4493, BMIN-GA 3007 \n",
    "### Spring 2019\n",
    "### Homework 1"
   ]
  },
  {
   "cell_type": "markdown",
   "metadata": {},
   "source": [
    "Note: If you need to write mathematical terms, you can type your answeres in a Markdown Cell via LaTex \n",
    "\n",
    "See: <a href=\"https://stackoverflow.com/questions/13208286/how-to-write-latex-in-ipython-notebook\">here</a> if you have issues with writing equations. To see basic LaTex notation see: <a href=\"https://en.wikibooks.org/wiki/LaTeX/Mathematics\"> here </a>.\n",
    "\n",
    "**Submission instruction**: Upload and Submit your final jupyter notebook file in <a href='http://newclasses.nyu.edu '>newclasses.nyu.edu</a>\n",
    "<br>\n",
    "**Submission deadline: Tuesday Feb 26th 2019 (3pm) **\n",
    "\n",
    "**Questions and Clarifications**: You can reach out to your TAs Chhavi Yadav (chhavi[at]nyu.edu), Ren Yi (ren.yi[at]nyu.edu), and Aakash Kaku (ark576[at]nyu.edu)."
   ]
  },
  {
   "cell_type": "markdown",
   "metadata": {},
   "source": [
    "---\n",
    "# Question 1: Take Derivatives!  (Total 25 points)\n",
    "### Take derivatives of function f(x) with respect to x in questions 1.1 to 1.5. (1 point each)\n",
    "### For 1.6 and 1.7 take partial derivatives of f(X, A) with respect to each $a_i$ and $x_i$. (4 points each)\n",
    "### You can use conditions in your response to 1.8, 1.9, and 1.10 if needed. For some special values of x, derivative may not exist, and that's ok. (4 points each)\n"
   ]
  },
  {
   "cell_type": "markdown",
   "metadata": {},
   "source": [
    "1.1.  $f(x) = 5(x-4)^3 + x -1 $"
   ]
  },
  {
   "cell_type": "markdown",
   "metadata": {
    "collapsed": true
   },
   "source": [
    "#### Solution:\n",
    "\n",
    "$\\frac{d}{dx}f(x) = \\frac{d}{dx}(5(x-4)^3 + x -1)$\n",
    "\n",
    "$\\frac{d}{dx}f(x) = 5 * 3 (x-4)^2 + 1$\n",
    "\n",
    "$\\frac{d}{dx}f(x) = 15(x-4)^2 + 1$"
   ]
  },
  {
   "cell_type": "markdown",
   "metadata": {},
   "source": [
    "1.2. $f(x) = e^x + e^{-x}$"
   ]
  },
  {
   "cell_type": "markdown",
   "metadata": {
    "collapsed": true
   },
   "source": [
    "#### Solution:\n",
    "\n",
    "$\\frac{d}{dx}f(x) = \\frac{d}{dx}(e^x + e^{-x})$\n",
    "\n",
    "$\\frac{d}{dx}f(x) = e^x + (-1) e^{-x}$\n",
    "\n",
    "$\\frac{d}{dx}f(x) = e^x - e^{-x}$"
   ]
  },
  {
   "cell_type": "markdown",
   "metadata": {},
   "source": [
    "1.3. $f(x) = \\frac{1}{x}$"
   ]
  },
  {
   "cell_type": "markdown",
   "metadata": {
    "collapsed": true
   },
   "source": [
    "#### Solution:\n",
    "\n",
    "$\\frac{d}{dx}f(x) = \\frac{d}{dx}(\\frac{1}{x})$\n",
    "\n",
    "$\\frac{d}{dx}f(x) = \\frac{-1}{x^2}$"
   ]
  },
  {
   "cell_type": "markdown",
   "metadata": {},
   "source": [
    "1.4. $f(x) = \\frac{1}{1+e^{-x}}$"
   ]
  },
  {
   "cell_type": "markdown",
   "metadata": {
    "collapsed": true
   },
   "source": [
    "#### Solution:\n",
    "\n",
    "$\\frac{d}{dx}f(x) = \\frac{d}{dx}(\\frac{1}{1+e^{-x}})$\n",
    "\n",
    "$\\frac{d}{dx}f(x) = \\frac{(1+e^{-x})(0) - (1)((-1)e^{-x})}{(1+e^{-x})^2}$\n",
    "\n",
    "$\\frac{d}{dx}f(x) = \\frac{e^{-x}}{(1+e^{-x})^2}$"
   ]
  },
  {
   "cell_type": "markdown",
   "metadata": {},
   "source": [
    "1.5. $f(x) = log_e(x) + log_e(5x) $"
   ]
  },
  {
   "cell_type": "markdown",
   "metadata": {
    "collapsed": true
   },
   "source": [
    "#### Solution:\n",
    "\n",
    "$\\frac{d}{dx}f(x) = \\frac{d}{dx}(log_e(x) + log_e(5x))$\n",
    "\n",
    "$\\frac{d}{dx}f(x) = \\frac{1}{x} + \\frac{1}{5x}5$\n",
    "\n",
    "$\\frac{d}{dx}f(x) = \\frac{1}{x} + \\frac{1}{x}$\n",
    "\n",
    "$\\frac{d}{dx}f(x) = \\frac{2}{x}$"
   ]
  },
  {
   "cell_type": "markdown",
   "metadata": {},
   "source": [
    "1.6. $f(A,X) = \\sum_{i=1}^5 log_e(a_i * x_i)$ \n",
    "<br>\n",
    "where $A = (a_1, a_2, a_3, a_4, a_5)$ and $X = (x_1, x_2, x_3, x_4, x_5)$"
   ]
  },
  {
   "cell_type": "markdown",
   "metadata": {
    "collapsed": true
   },
   "source": [
    "#### Solution:\n",
    "\n",
    "$\\frac{d}{dx_i}f(A,X) = \\frac{d}{dx_i}\\sum_{i=1}^5 log_e(a_i * x_i)$\n",
    "\n",
    "$\\frac{d}{dx_i}f(A,X) = \\sum_{i=1}^5 \\frac{d}{dx_i}log_e(a_i * x_i)$ (As derivative is linear operator)\n",
    "\n",
    "$\\frac{d}{dx_i}f(A,X) = \\frac{1}{a_i * x_i}a_i$ (Only the $i_th$ term survives while rest all will become zero)\n",
    "\n",
    "$\\frac{d}{dx_i}f(A,X) = \\frac{1}{x_i}$\n",
    "\n",
    "Similarly \n",
    "\n",
    "$\\frac{d}{da_i}f(A,X) = \\frac{d}{da_i}\\sum_{i=1}^5 log_e(a_i * x_i)$\n",
    "\n",
    "$\\frac{d}{da_i}f(A,X) = \\sum_{i=1}^5 \\frac{d}{da_i}log_e(a_i * x_i)$ (As derivative is linear operator)\n",
    "\n",
    "$\\frac{d}{da_i}f(A,X) = \\frac{1}{a_i * x_i}x_i$ (Only the $i_th$ term survives while rest all will become zero)\n",
    "\n",
    "$\\frac{d}{da_i}f(A,X) = \\frac{1}{a_i}$"
   ]
  },
  {
   "cell_type": "markdown",
   "metadata": {},
   "source": [
    "1.7. $f(A,X) = \\sum_{i=1}^5 log_e(\\frac{1}{1+e^{-a_i*x_i}})$\n",
    "<br>\n",
    "where $A = (a_1, a_2, a_3, a_4, a_5)$ and $X = (x_1, x_2, x_3, x_4, x_5)$"
   ]
  },
  {
   "cell_type": "markdown",
   "metadata": {
    "collapsed": true
   },
   "source": [
    "#### Solution:\n",
    "\n",
    "$\\frac{d}{dx_i} f(A,X) = \\frac{d}{dx_i}\\sum_{i=1}^5 log_e(\\frac{1}{1+e^{-a_i*x_i}})$\n",
    "\n",
    "$\\frac{d}{dx_i} f(A,X) = \\sum_{i=1}^5 \\frac{d}{dx_i} log_e(\\frac{1}{1+e^{-a_i*x_i}})$ (As derivative is linear operator)\n",
    "\n",
    "$\\frac{d}{dx_i} f(A,X) = \\frac{1}{\\frac{1}{1+e^{-a_i*x_i}}}\\frac{(1+e^{-a_i*x_i})0 - 1 (e^{-a_i*x_i})-a_i}{(1+e^{-a_i*x_i})^2}$ (Only the $i_th$ term survives while rest all will become zero)\n",
    "\n",
    "$\\frac{d}{dx_i} f(A,X) = \\frac{a_ie^{-a_i*x_i}}{(1+e^{-a_i*x_i})}$\n",
    "\n",
    "$\\frac{d}{dx_i} f(A,X) = \\frac{a_i}{(1+e^{a_i*x_i})}$\n",
    "\n",
    "Similarly\n",
    "\n",
    "$\\frac{d}{da_i} f(A,X) = \\frac{d}{da_i}\\sum_{i=1}^5 log_e(\\frac{1}{1+e^{-a_i*x_i}})$\n",
    "\n",
    "$\\frac{d}{da_i} f(A,X) = \\sum_{i=1}^5 \\frac{d}{da_i} log_e(\\frac{1}{1+e^{-a_i*x_i}})$ (As derivative is linear operator)\n",
    "\n",
    "$\\frac{d}{da_i} f(A,X) = \\frac{1}{\\frac{1}{1+e^{-a_i*x_i}}}\\frac{(1+e^{-a_i*x_i})0 - 1 (e^{-a_i*x_i})-x_i}{(1+e^{-a_i*x_i})^2}$ (Only the $i_th$ term survives while rest all will become zero)\n",
    "\n",
    "$\\frac{d}{da_i} f(A,X) = \\frac{x_ie^{-a_i*x_i}}{(1+e^{-a_i*x_i})}$\n",
    "\n",
    "$\\frac{d}{da_i} f(A,X) = \\frac{x_i}{(1+e^{a_i*x_i})}$"
   ]
  },
  {
   "cell_type": "markdown",
   "metadata": {},
   "source": [
    "1.8. $ f(x) =\n",
    "  \\begin{cases}\n",
    "    x & \\text{if $x>0$} \\\\\n",
    "    0 & \\text{otherwise}\n",
    "  \\end{cases}$"
   ]
  },
  {
   "cell_type": "markdown",
   "metadata": {
    "collapsed": true
   },
   "source": [
    "#### Solution:\n",
    "\n",
    "Derivative of the function for $x>0$ will be equal to 1 and 0 for otherwise region. Therefore, the derivative of the function will be:\n",
    "\n",
    "$ \\frac{d}{dx}f(x) =\n",
    "  \\begin{cases}\n",
    "    1 & \\text{if $x>0$} \\\\\n",
    "    0 & \\text{otherwise}\n",
    "  \\end{cases}$"
   ]
  },
  {
   "cell_type": "markdown",
   "metadata": {},
   "source": [
    "1.9. $f(x) = | x | $\n",
    "<br>\n",
    "($|x|$ means absolute value of x)"
   ]
  },
  {
   "cell_type": "markdown",
   "metadata": {
    "collapsed": true
   },
   "source": [
    "#### Solution:\n",
    "\n",
    "$ f(x) =\n",
    "  \\begin{cases}\n",
    "    x & \\text{if $x>0$} \\\\\n",
    "    -x & \\text{if $x<0$} \\\\\n",
    "    0 & \\text{otherwise}\n",
    "  \\end{cases}$\n",
    "\n",
    "Derivative of the function for $x>0$ will be equal to 1, for for $x<0$ will be equal to -1 and 0 for otherwise region. Therefore, the derivative of the function will be:\n",
    "\n",
    "$ \\frac{d}{dx}f(x) =\n",
    "  \\begin{cases}\n",
    "    1 & \\text{if $x>0$} \\\\\n",
    "    -1 & \\text{if $x<0$} \\\\\n",
    "    undefined & \\text{otherwise}\n",
    "  \\end{cases}$"
   ]
  },
  {
   "cell_type": "markdown",
   "metadata": {},
   "source": [
    "1.10. $f(x) = max(x,  x^2)$"
   ]
  },
  {
   "cell_type": "markdown",
   "metadata": {
    "collapsed": true
   },
   "source": [
    "#### Solution:\n",
    "\n",
    "$ f(x) =\n",
    "  \\begin{cases}\n",
    "    x^2 & \\text{if $x<0$ and x>1} \\\\\n",
    "    0 & \\text{if x = 0} \\\\\n",
    "    x & \\text{if $0<x<1$} \\\\\n",
    "    1 & \\text{if x = 1}\n",
    "  \\end{cases}$\n",
    "  \n",
    "Derivative of $x^2$ is $2x$ and $x$ is 1. Therefore, the derivative of the function will be:\n",
    "\n",
    "$ \\frac{d}{dx}f(x) =\n",
    "  \\begin{cases}\n",
    "    2x & \\text{if $x<0$ and x>1} \\\\\n",
    "    1 & \\text{if $0<x<1$} \\\\\n",
    "    undefined & \\text{otherwise} \\\\\n",
    "  \\end{cases}$"
   ]
  },
  {
   "cell_type": "markdown",
   "metadata": {},
   "source": [
    "---\n",
    "# Question 2: Solving Linear Regression via Mean Squared Error (MSE) Optimization Problem (30 points)"
   ]
  },
  {
   "cell_type": "markdown",
   "metadata": {},
   "source": [
    "Imagine that you have measured two variables X and Y, for a simple task, and you belive that they might be linearly related to each other. Here, our input X has 2 dimensions, and the output has 1 dimension. We will use super-script to indicate which sample it is, and sub-scipt to indicate which dimension it is. \n",
    "The measurements are as follows:\n",
    "\n",
    "###### (Training data D = {($X^1$, $Y^1$), ($X^2$, $Y^2$), ($X^3$, $Y^3$)})\n",
    "\n",
    "Sample 1: $X^1 = (x_1^1, x_2^1) = (1,1)$,   $Y^1$ = 6\n",
    "\n",
    "Sample 2: $X^2 = (x_1^2, x_2^2) = (2,3)$,   $Y^2$ = 11\n",
    "\n",
    "Sample 3: $X^3 = (x_1^3, x_2^3) = (-1,0)$,   $Y^3$ = 2\n",
    "\n"
   ]
  },
  {
   "cell_type": "markdown",
   "metadata": {},
   "source": [
    "If we assume that the relationship between X and Y is linear, we can write this relationship as:"
   ]
  },
  {
   "cell_type": "markdown",
   "metadata": {},
   "source": [
    "$Y = f_{W,B}(X) = WX + B = w_1*x_1 + w_2*x_2 + B$"
   ]
  },
  {
   "cell_type": "markdown",
   "metadata": {},
   "source": [
    "where $W = (w_1, w_2)$ and $B$ are the parameters of the model.\t\n",
    "We are interested in finding best values for W and B.\t\n",
    "We define 'best' in terms of a loss function between $f_{W,b}(X_i)$ and $Y_i$ for each ($X_i$ and $Y_i$) in the training data. \t\n",
    "Since $Y_i$s are real numbers, let's consider Mean Squared Error loss. "
   ]
  },
  {
   "cell_type": "markdown",
   "metadata": {},
   "source": [
    "Remember that Mean Squared Error for this function, over training data, and W and B is:\n",
    "\n",
    "$MSELoss(D={(X_1, Y_1), (X_2, Y_2), (X_3, Y_3)}), W, B) = \\frac{1}{3}\\sum_{i=1}^{3} (f_{W,B}(X_i) - Y_i)^2 $"
   ]
  },
  {
   "cell_type": "markdown",
   "metadata": {},
   "source": [
    "### 2.1) (9 points) \n",
    "Compute the partial derivative of $MESLoss(D, W, B)$, With respect to W and B.\t\n",
    "Remember that $X_1$, $X_2$, $X_3$, $Y_1$, $Y_2$, and $Y_3$ are constants, and already given to us as training data above.\n",
    "\n",
    "$\\frac{d}{d w_1} MSELoss(D, W, B) = ?$\n",
    "\n",
    "$\\frac{d}{d w_2} MSELoss(D, W, B) = ?$\n",
    "\n",
    "$\\frac{d}{d B} MSELoss(D, W, B) = ?$"
   ]
  },
  {
   "cell_type": "markdown",
   "metadata": {
    "collapsed": true
   },
   "source": [
    "### Solution:\n",
    "\n",
    "$\\frac{d}{d w_1} MSELoss(D, W, B) = \\frac{d}{d w_1}\\frac{1}{3}\\sum_{i=1}^{3} (f_{W,B}(X_i) - Y_i)^2$\n",
    "\n",
    "$\\frac{d}{d w_1} MSELoss(D, W, B) = \\frac{d}{d w_1}\\frac{1}{3}\\sum_{i=1}^{3} (w_1*x_1^i + w_2*x_2^i + B - Y_i)^2$\n",
    "\n",
    "$\\frac{d}{d w_1} MSELoss(D, W, B) = \\frac{1}{3}\\sum_{i=1}^{3} \\frac{d}{d w_1}(w_1*x_1^i + w_2*x_2^i + B - Y_i)^2$ (Since derivative function is linear)\n",
    "\n",
    "$\\frac{d}{d w_1} MSELoss(D, W, B) = \\frac{1}{3}\\sum_{i=1}^{3} 2(w_1*x_1^i + w_2*x_2^i + B - Y_i)x_1^i$\n",
    "\n",
    "$\\frac{d}{d w_1} MSELoss(D, W, B) = \\frac{2}{3}\\sum_{i=1}^{3} (w_1*x_1^i + w_2*x_2^i + B - Y_i)x_1^i$\n",
    "\n",
    "Similarly $\\frac{d}{d w_2} MSELoss(D, W, B) = \\frac{2}{3}\\sum_{i=1}^{3} (w_1*x_1^i + w_2*x_2^i + B - Y_i)x_2^i$\n",
    "\n",
    "And $\\frac{d}{d B} MSELoss(D, W, B) = \\frac{2}{3}\\sum_{i=1}^{3} (w_1*x_1^i + w_2*x_2^i + B - Y_i)$"
   ]
  },
  {
   "cell_type": "markdown",
   "metadata": {},
   "source": [
    "### 2.2) (3 points) \n",
    "Use matplotlib library and plot $\\frac{d}{d w1} MSELoss(D, W, B)$ for $w_1 = np.arange(0,2,0.1)$, when $w_2$ equals 2, and B equals to 3."
   ]
  },
  {
   "cell_type": "markdown",
   "metadata": {},
   "source": [
    "#### Solution:\n",
    "\n",
    "$\\frac{d}{d w_1} MSELoss(D, W, B) = \\frac{2}{3}\\sum_{i=1}^{3} (w_1*x_1^i + w_2*x_2^i + B - Y_i)x_1^i$\n",
    "\n",
    "$\\frac{d}{d w_1} MSELoss(D, W, B) = \\frac{2}{3}\\sum_{i=1}^{3} (w_1*(x_1^i)^2 + w_2*x_1^i * x_2^i + B * x_1^i - x_1^i * Y_i)$\n",
    "\n",
    "$\\frac{d}{d w_1} MSELoss(D, W, B) = \\frac{2}{3}((w_1*((x_1^1)^2+(x_1^2)^2+(x_1^3)^2) + w_2*(x_1^1*x_2^1+ x_1^2*x_2^2 + x_1^3*x_2^3)* x_2^i + B * (x_1^1+ x_1^2 + x_1^3) - (x_1^1* Y_1^1+ x_1^2* Y_1^2 + x_1^3*Y_1^3))$\n",
    "\n",
    "For $w_2$ = 2, B = 3\n",
    "\n",
    "$\\frac{d}{d w_1} MSELoss(D, W, B) = \\frac{2}{3}((w_1*(1 + 4 + 1) + 2 * (1+ 6 + 0) + 3 * (1+ 2 + -1) - (1 *6 + 2* 11 + -1*2))$\n",
    "\n",
    "$\\frac{d}{d w_1} MSELoss(D, W, B) = 4w_1 -4$"
   ]
  },
  {
   "cell_type": "code",
   "execution_count": 30,
   "metadata": {},
   "outputs": [
    {
     "data": {
      "text/plain": [
       "[<matplotlib.lines.Line2D at 0x11eacdc50>]"
      ]
     },
     "execution_count": 30,
     "metadata": {},
     "output_type": "execute_result"
    },
    {
     "data": {
      "image/png": "[encoded data removed]",
      "text/plain": [
       "<Figure size 432x288 with 1 Axes>"
      ]
     },
     "metadata": {
      "needs_background": "light"
     },
     "output_type": "display_data"
    }
   ],
   "source": [
    "import matplotlib.pyplot as plt\n",
    "%matplotlib inline\n",
    "import numpy as np\n",
    "w1 = np.arange(0, 2, 0.1)\n",
    "# plot dMSELoss/dw1 here:\n",
    "\n",
    "(x_1_1, x_2_1) = (1,1)\n",
    "(x_1_2, x_2_2) = (2,3)\n",
    "(x_1_3, x_2_3) = (-1,0)\n",
    "(y_1, y_2, y_3) = (6, 11, 2)\n",
    "\n",
    "grad_hist = []\n",
    "grad = 0\n",
    "\n",
    "# Implementation of above proved short-version of formula:\n",
    "for i in w1:\n",
    "    grad_hist.append(4*i - 4)\n",
    "    \n",
    "plt.plot(w1, grad_hist)\n",
    "\n"
   ]
  },
  {
   "cell_type": "markdown",
   "metadata": {},
   "source": [
    "### 2.3) (3 points) \n",
    "What values of $w_1$, $w_2$ and $B$, make all partial derivatives zero?"
   ]
  },
  {
   "cell_type": "markdown",
   "metadata": {
    "collapsed": true
   },
   "source": [
    "#### Solution:\n",
    "\n",
    "\\begin{align*}\n",
    "\\frac{d}{d w_1} &= \\frac{2}{3}\\sum_{i=1}^{3} (w_1*x_1^i + w_2*x_2^i + B - Y_i)x_1^i\\\\\n",
    "                &= \\frac{2}{3}\\sum_{i=1}^{3} (w_1*(x_1^i)^2 + w_2*x_1^i * x_2^i + x_1^i * B - x_1^i *Y_i)\\\\\n",
    "                &= \\frac{2}{3} (w_1 + w_2 + B - 6 + 4*w_1 + 6 *w_2 + 2*B - 22 + w_1 - B + 2)\\\\\n",
    "                &= \\frac{2}{3} (6 * w_1 + 7 * w_2 + 2 * B - 26)\\\\\n",
    "                &&\n",
    "\\end{align*}\n",
    "\n",
    "Similarly \n",
    "\n",
    "\\begin{align*}\n",
    "\\frac{d}{d w_2} &= \\frac{2}{3}\\sum_{i=1}^{3} (w_1*x_1^i + w_2*x_2^i + B - Y_i)x_2^i\\\\\n",
    "                &= \\frac{2}{3}\\sum_{i=1}^{3} (w_1*x_1^i * x_2^i + w_2* (x_2^i)^2 + x_2^i * B - x_2^i *Y_i)\\\\\n",
    "                &= \\frac{2}{3} (w_1 + w_2 + B - 6 + 6*w_1 + 9 *w_2 + 3* B - 33)\\\\\n",
    "                &= \\frac{2}{3} (7 * w_1 + 10 * w_2 + 4 * B - 39)\\\\\n",
    "                &&\n",
    "\\end{align*}\n",
    "\n",
    "\\begin{align*}\n",
    "\\frac{d}{d B} &= \\frac{2}{3}\\sum_{i=1}^{3} (w_1*x_1^i + w_2*x_2^i + B - Y_i)\\\\\n",
    "                &= \\frac{2}{3} (w_1 + w_2 + B - 6 + 2*w_1 + 3 *w_2 + B - 11 - w_1 + B - 2)\\\\\n",
    "                &= \\frac{2}{3} (2 * w_1 + 4 * w_2 + 3 * B -19)\\\\\n",
    "                &&\n",
    "\\end{align*}\n",
    "\n",
    "Solving the above equations, we get **(w_1, w_2, B) = (1,2,3)** for which all three of them will be equal to zero."
   ]
  },
  {
   "cell_type": "markdown",
   "metadata": {},
   "source": [
    "### 2.4) (10 points) \n",
    "If you start from an initial point $w_1^0 = 0.1$ , $w_2^0 = 0.1$ and $B^0 = 0.1$, and iteratively update your $w_1$, $w_2$, and B via gradient descent as follows:\n",
    "    \n",
    "$ w_1^{t+1} = w_1^t - 0.01 * \\frac{d}{d w_1} MSELoss(D, W, B) |_{w_1^t,w_2^t,B^t} $\t\n",
    "$ w_2^{t+1} = w_2^t - 0.01 * \\frac{d}{d w_2} MSELoss(D, W, B) |_{w_1^t,w_2^t,B^t} $\t\n",
    "$ B^{t+1} = B^t - 0.01 * \\frac{d}{d B} MSELoss(D, W, B) |_{w_1^t,w_2^t,B^t} $\t\n",
    "(Note: This is gradient descent with a 0.01 learning rate.)\n",
    "\n",
    "What are the values of Ws and B over iterations 0 to 50? (Don't compute by hand! Write a code!)\t\n",
    "Write a python script that computes these values for 50 iterations, i.e. lists of $\\{w_1^0, w^1_1,.., w_1^{50}\\}$, $\\{w_2^0, w_2^1,.., w_2^{50}\\}$, and $\\{B^0, B^1,.., B^{50}\\}$.\t\n",
    "Plot the lists of $w_1$s, $w_2$s and Bs over 50 iterations.\n",
    "\n"
   ]
  },
  {
   "cell_type": "code",
   "execution_count": 31,
   "metadata": {},
   "outputs": [
    {
     "data": {
      "image/png": "[encoded data removed]",
      "text/plain": [
       "<Figure size 864x576 with 1 Axes>"
      ]
     },
     "metadata": {
      "needs_background": "light"
     },
     "output_type": "display_data"
    }
   ],
   "source": [
    "w_1 = [0 for i in range(51)]\n",
    "w_2 = [0 for i in range(51)]\n",
    "b = [0 for i in range(51)]\n",
    "\n",
    "w_1[0] = 0.1\n",
    "w_2[0] = 0.1\n",
    "b[0] = 0.1\n",
    "\n",
    "(x_1_1, x_2_1) = (1,1)\n",
    "(x_1_2, x_2_2) = (2,3)\n",
    "(x_1_3, x_2_3) = (-1,0)\n",
    "(y_1, y_2, y_3) = (6, 11, 2)\n",
    "\n",
    "X = np.array([(x_1_1, x_2_1), (x_1_2, x_2_2), (x_1_3, x_2_3)]).T\n",
    "Y = np.array((6, 11, 2))\n",
    "W = np.array([0.1, 0.1])\n",
    "B = np.array([0.1, 0.1, 0.1])\n",
    "\n",
    "for i in range(1, 51):\n",
    "    w_1[i], w_2[i], b[i] = w_1[i-1], w_2[i-1], b[i-1]\n",
    "    for j in range(1, 4):\n",
    "        w_1[i] = w_1[i] - 0.01 * 2 * (w_1[i-1] * eval(str(\"x_1_\"+str(j))) + w_2[i-1] * eval(str(\"x_2_\"+str(j))) + b[i-1] - eval(str(\"y_\"+str(j)))) * eval(str(\"x_1_\"+str(j)))/3\n",
    "        w_2[i] = w_2[i] - 0.01 * 2 * (w_1[i-1] * eval(str(\"x_1_\"+str(j))) + w_2[i-1] * eval(str(\"x_2_\"+str(j))) + b[i-1] - eval(str(\"y_\"+str(j)))) * eval(str(\"x_2_\"+str(j)))/3\n",
    "        b[i] = b[i] - 0.01 * 2 * (w_1[i-1] * eval(str(\"x_1_\"+str(j))) + w_2[i-1] * eval(str(\"x_2_\"+str(j))) + b[i-1] - eval(str(\"y_\"+str(j))))/3\n",
    "\n",
    "plt.figure(figsize = (12, 8))\n",
    "plt.plot(w_1, label = 'w_1')\n",
    "plt.plot(w_2, label = 'w_2')\n",
    "plt.plot(b, label = 'b')\n",
    "plt.ylabel('Value')\n",
    "plt.xlabel('epoch')\n",
    "plt.title('Parameter value vs Epochs')\n",
    "plt.legend(loc = 'lower right')\n",
    "plt.show()"
   ]
  },
  {
   "cell_type": "markdown",
   "metadata": {},
   "source": [
    "### 2.5) (10 points) \n",
    "Now that you learned the math and made the code yourself, we will use pytorch and automatic differentiation, to find optimal W and B!\t\n",
    "Again, consider data to be D = {($X_1$, $Y_1$), ($X_2$, $Y_2$), ($X_3$, $Y_3$)}) = {((1,1), 6), ((2,3),11), ((-1,0),2)}.\n",
    "\n",
    "Some of your steps are here. Fill in the rest and show a plot of the loss function, $w_1$, $w_2$ and B over these 10 epochs. (4 plots total)"
   ]
  },
  {
   "cell_type": "code",
   "execution_count": 32,
   "metadata": {},
   "outputs": [
    {
     "name": "stdout",
     "output_type": "stream",
     "text": [
      "data X is: [(1, 1), (2, 3), (-1, 0)]\n",
      "data Y is: [6, 11, 2]\n"
     ]
    },
    {
     "data": {
      "image/png": "[encoded data removed]",
      "text/plain": [
       "<Figure size 432x288 with 1 Axes>"
      ]
     },
     "metadata": {
      "needs_background": "light"
     },
     "output_type": "display_data"
    },
    {
     "data": {
      "image/png": "[encoded data removed]",
      "text/plain": [
       "<Figure size 432x288 with 1 Axes>"
      ]
     },
     "metadata": {
      "needs_background": "light"
     },
     "output_type": "display_data"
    },
    {
     "data": {
      "image/png": "[encoded data removed]",
      "text/plain": [
       "<Figure size 432x288 with 1 Axes>"
      ]
     },
     "metadata": {
      "needs_background": "light"
     },
     "output_type": "display_data"
    },
    {
     "data": {
      "image/png": "[encoded data removed]",
      "text/plain": [
       "<Figure size 432x288 with 1 Axes>"
      ]
     },
     "metadata": {
      "needs_background": "light"
     },
     "output_type": "display_data"
    }
   ],
   "source": [
    "import torch\n",
    "import torch.nn as nn\n",
    "import numpy as np\n",
    "from torch import optim\n",
    "from torch.autograd import Variable\n",
    "\n",
    "D = [((1,1), 6), ((2,3),11), ((-1,0),2)]\n",
    "X = [d[0] for d in D]\n",
    "Y = [d[1] for d in D]\n",
    "print('data X is:', X)\n",
    "print('data Y is:', Y)\n",
    "\n",
    "model = torch.nn.Linear(2, 1, bias=True)\n",
    "optimizer = optim.SGD(model.parameters(), lr=0.01)\n",
    "loss = torch.nn.MSELoss()\n",
    "\n",
    "losslist = []\n",
    "w1list = []\n",
    "w2list = []\n",
    "blist = []\n",
    "\n",
    "for epoch in range(10):\n",
    "    # Shuffle your training data samples\n",
    "    num_samples = len(X)\n",
    "    indices = np.arange(num_samples)\n",
    "    np.random.shuffle(indices)\n",
    "    X = np.array(X)[indices]\n",
    "    Y = np.array(Y)[indices]\n",
    "    \n",
    "    # Loop over your training data in the new order:\n",
    "    for i in X:\n",
    "        #dont forget to: optimizer.zero_grad()\n",
    "        optimizer.zero_grad()\n",
    "        \n",
    "        #prepare your x_input and y_target if needed\n",
    "        x_input = Variable(torch.from_numpy(X)).type(torch.FloatTensor)\n",
    "        y_target = Variable(torch.from_numpy(Y)).type(torch.FloatTensor)\n",
    "        \n",
    "        #send the data through your model: i.e. pred_i = model(x_input)\n",
    "        model.train()\n",
    "        f_x = model.forward(x_input.view(len(x_input), 2))\n",
    "        pred_i = model.forward(x_input)\n",
    "        \n",
    "        #send the prediction through the loss function too: i.e. lossout= loss(pred_i, y_target)\n",
    "        lossout = loss(f_x, y_target.view(len(x_input), 1))        \n",
    "        \n",
    "        #call backward to back-propagate: i.e. lossout.backward()\n",
    "        lossout.backward()        \n",
    "        \n",
    "        #call optimizer.step() to update the model parameters based on the computed gradients\n",
    "        optimizer.step()\n",
    "        \n",
    "        #keep the w1s, w2s, and bs, and loss value some list so you can plot them later\n",
    "        w = model.weight.data.numpy().ravel()\n",
    "        b = model.bias.data.numpy().ravel()[0]\n",
    "        w1list.append(w[0])\n",
    "        w2list.append(w[1])\n",
    "        blist.append(b)\n",
    "        losslist.append(lossout.data.numpy().ravel()[0])\n",
    "\n",
    "#plot the losslist, w1s, w2s, and bs.\n",
    "plt.plot(losslist, label = 'Loss')\n",
    "plt.ylabel('Loss Value')\n",
    "plt.xlabel('Epoch')\n",
    "plt.title('Loss value vs Epochs')\n",
    "plt.legend()\n",
    "plt.show()\n",
    "\n",
    "plt.plot(w1list, label = 'w1')\n",
    "plt.ylabel('w1 Value')\n",
    "plt.xlabel('Epoch')\n",
    "plt.title('w1 value vs Epochs')\n",
    "plt.legend(loc = 'lower right')\n",
    "plt.show()\n",
    "\n",
    "plt.plot(w2list, label = 'w2')\n",
    "plt.ylabel('w2 Value')\n",
    "plt.xlabel('Epoch')\n",
    "plt.title('w2 value vs Epochs')\n",
    "plt.legend(loc = 'lower right')\n",
    "plt.show()\n",
    "\n",
    "plt.plot(blist, label = 'b')\n",
    "plt.ylabel('b Value')\n",
    "plt.xlabel('Epoch')\n",
    "plt.title('b value vs Epochs')\n",
    "plt.legend(loc = 'lower right')\n",
    "plt.show()"
   ]
  },
  {
   "cell_type": "markdown",
   "metadata": {},
   "source": [
    "---\n",
    "# Question 3: Learning Curves, Overfitting, and Machine Learning! (45 Points + 7 Bonus Points)\n"
   ]
  },
  {
   "cell_type": "markdown",
   "metadata": {},
   "source": [
    "Now we know how to optimize, let's get some real machine learning done!\n",
    "\n",
    "Instead of the small dataset we had in question 2, now we will use the Diabetes Dataset which can be downloaded from [here](https://drive.google.com/drive/folders/1nuZg4pMFvOZHCHxtU5gBEnHq9YJBdZX_).\n",
    "\n",
    "In this dataset, we are trying to predict if a person doesn't have diabetes (0), has diabetes in Stage 1 or in Stage 2. The output labels can be found in Output.csv. All the other files will be used as Input. From these files, the columns that we are interested in and what they stand for are as follows :\n",
    "                          \n",
    "                          SEQN : ID\n",
    "                          \n",
    "                          RIAGENDR : Gender\n",
    "                          \n",
    "                          DMDYRSUS : Years in US\n",
    "                          \n",
    "                          INDFMPIR : Family income\n",
    "                          \n",
    "                          LBXGH : GlycoHemoglobin\n",
    "                          \n",
    "                          BMXARMC : Arm Circum\n",
    "                          \n",
    "                          BMDAVSAD : Saggital Abdominal\n",
    "                          \n",
    "                          MGDCGSZ : Grip Strength\n",
    "                          \n",
    "                          DRABF : Breast fed\n",
    "\n",
    "We will use the first 6000 samples for training while the rest for testing.\n",
    "\n",
    "Solve questions 3.1 to 3.7 with this information."
   ]
  },
  {
   "cell_type": "markdown",
   "metadata": {},
   "source": [
    "## 3.1 Data Analysis (5 points)\n",
    "\n",
    "Read the input csvs. Rename the variables with their meaningful names shown above.<br>\n",
    "Print all the desired variables in the training set with their count, mean, standard deviation and range. \n",
    "\n",
    "__Hint__ : If you are using pandas, it might save some time to look for a built-in function that returns all these!"
   ]
  },
  {
   "cell_type": "code",
   "execution_count": 14,
   "metadata": {},
   "outputs": [],
   "source": [
    "import torch\n",
    "import itertools\n",
    "import numpy as np\n",
    "import pandas as pd\n",
    "import torch.nn as nn\n",
    "import torch.optim as optim\n",
    "import torch.utils.data as data\n",
    "import matplotlib.pyplot as plt\n",
    "from sklearn.linear_model import LogisticRegression\n",
    "from sklearn.metrics import  confusion_matrix, roc_curve, auc\n",
    "import warnings\n",
    "warnings.filterwarnings(\"ignore\")\n",
    "\n",
    "%matplotlib inline"
   ]
  },
  {
   "cell_type": "code",
   "execution_count": 15,
   "metadata": {},
   "outputs": [],
   "source": [
    "#merging all and removing redundant ID column\n",
    "df1 = pd.read_csv('labs.csv')\n",
    "df2 = pd.read_csv('examination.csv')\n",
    "df3 = pd.read_csv('demographic.csv')\n",
    "df4 = pd.read_csv('diet.csv')\n",
    "df5 = pd.read_csv('questionnaire.csv')\n",
    "target = pd.read_csv('Output.csv')\n",
    "\n",
    "df2.drop(['SEQN'], axis = 1, inplace=True)\n",
    "df3.drop(['SEQN'], axis = 1, inplace=True)\n",
    "df4.drop(['SEQN'], axis = 1, inplace=True)\n",
    "df5.drop(['SEQN'], axis = 1, inplace=True)\n",
    "\n",
    "\n",
    "df = pd.concat([df1, df2], axis=1, join='inner')\n",
    "df = pd.concat([df, df3], axis=1, join='inner')\n",
    "df = pd.concat([df, df4], axis=1, join='inner')\n",
    "df = pd.concat([df, df5], axis=1, join='inner')"
   ]
  },
  {
   "cell_type": "code",
   "execution_count": 17,
   "metadata": {},
   "outputs": [
    {
     "data": {
      "text/html": [
       "<div>\n",
       "<style scoped>\n",
       "    .dataframe tbody tr th:only-of-type {\n",
       "        vertical-align: middle;\n",
       "    }\n",
       "\n",
       "    .dataframe tbody tr th {\n",
       "        vertical-align: top;\n",
       "    }\n",
       "\n",
       "    .dataframe thead th {\n",
       "        text-align: right;\n",
       "    }\n",
       "</style>\n",
       "<table border=\"1\" class=\"dataframe\">\n",
       "  <thead>\n",
       "    <tr style=\"text-align: right;\">\n",
       "      <th></th>\n",
       "      <th>ID</th>\n",
       "      <th>Gender</th>\n",
       "      <th>Years_in_US</th>\n",
       "      <th>Family_income</th>\n",
       "      <th>GlycoHemoglobin</th>\n",
       "      <th>ArmCircum</th>\n",
       "      <th>SaggitalAbdominal</th>\n",
       "      <th>GripStrength</th>\n",
       "      <th>Breast_fed</th>\n",
       "    </tr>\n",
       "  </thead>\n",
       "  <tbody>\n",
       "    <tr>\n",
       "      <th>count</th>\n",
       "      <td>6000.000000</td>\n",
       "      <td>6000.000000</td>\n",
       "      <td>1077.000000</td>\n",
       "      <td>5541.000000</td>\n",
       "      <td>4024.000000</td>\n",
       "      <td>5693.000000</td>\n",
       "      <td>4378.000000</td>\n",
       "      <td>4641.000000</td>\n",
       "      <td>5296.000000</td>\n",
       "    </tr>\n",
       "    <tr>\n",
       "      <th>mean</th>\n",
       "      <td>76666.999333</td>\n",
       "      <td>1.509833</td>\n",
       "      <td>9.012999</td>\n",
       "      <td>2.231298</td>\n",
       "      <td>5.657455</td>\n",
       "      <td>28.397137</td>\n",
       "      <td>21.165875</td>\n",
       "      <td>63.010537</td>\n",
       "      <td>1.983761</td>\n",
       "    </tr>\n",
       "    <tr>\n",
       "      <th>std</th>\n",
       "      <td>1797.525857</td>\n",
       "      <td>0.499945</td>\n",
       "      <td>17.911384</td>\n",
       "      <td>1.642784</td>\n",
       "      <td>1.025823</td>\n",
       "      <td>8.085834</td>\n",
       "      <td>5.042025</td>\n",
       "      <td>25.087971</td>\n",
       "      <td>0.126404</td>\n",
       "    </tr>\n",
       "    <tr>\n",
       "      <th>min</th>\n",
       "      <td>73557.000000</td>\n",
       "      <td>1.000000</td>\n",
       "      <td>1.000000</td>\n",
       "      <td>0.000000</td>\n",
       "      <td>3.700000</td>\n",
       "      <td>10.400000</td>\n",
       "      <td>10.100000</td>\n",
       "      <td>10.900000</td>\n",
       "      <td>1.000000</td>\n",
       "    </tr>\n",
       "    <tr>\n",
       "      <th>25%</th>\n",
       "      <td>75107.750000</td>\n",
       "      <td>1.000000</td>\n",
       "      <td>4.000000</td>\n",
       "      <td>0.860000</td>\n",
       "      <td>5.200000</td>\n",
       "      <td>22.200000</td>\n",
       "      <td>17.300000</td>\n",
       "      <td>45.600000</td>\n",
       "      <td>2.000000</td>\n",
       "    </tr>\n",
       "    <tr>\n",
       "      <th>50%</th>\n",
       "      <td>76667.500000</td>\n",
       "      <td>2.000000</td>\n",
       "      <td>5.000000</td>\n",
       "      <td>1.670000</td>\n",
       "      <td>5.400000</td>\n",
       "      <td>29.200000</td>\n",
       "      <td>20.700000</td>\n",
       "      <td>60.400000</td>\n",
       "      <td>2.000000</td>\n",
       "    </tr>\n",
       "    <tr>\n",
       "      <th>75%</th>\n",
       "      <td>78222.250000</td>\n",
       "      <td>2.000000</td>\n",
       "      <td>7.000000</td>\n",
       "      <td>3.610000</td>\n",
       "      <td>5.800000</td>\n",
       "      <td>34.100000</td>\n",
       "      <td>24.475000</td>\n",
       "      <td>80.400000</td>\n",
       "      <td>2.000000</td>\n",
       "    </tr>\n",
       "    <tr>\n",
       "      <th>max</th>\n",
       "      <td>79780.000000</td>\n",
       "      <td>2.000000</td>\n",
       "      <td>99.000000</td>\n",
       "      <td>5.000000</td>\n",
       "      <td>14.700000</td>\n",
       "      <td>59.400000</td>\n",
       "      <td>40.100000</td>\n",
       "      <td>162.800000</td>\n",
       "      <td>2.000000</td>\n",
       "    </tr>\n",
       "  </tbody>\n",
       "</table>\n",
       "</div>"
      ],
      "text/plain": [
       "                 ID       Gender  Years_in_US  Family_income  GlycoHemoglobin  \\\n",
       "count   6000.000000  6000.000000  1077.000000    5541.000000      4024.000000   \n",
       "mean   76666.999333     1.509833     9.012999       2.231298         5.657455   \n",
       "std     1797.525857     0.499945    17.911384       1.642784         1.025823   \n",
       "min    73557.000000     1.000000     1.000000       0.000000         3.700000   \n",
       "25%    75107.750000     1.000000     4.000000       0.860000         5.200000   \n",
       "50%    76667.500000     2.000000     5.000000       1.670000         5.400000   \n",
       "75%    78222.250000     2.000000     7.000000       3.610000         5.800000   \n",
       "max    79780.000000     2.000000    99.000000       5.000000        14.700000   \n",
       "\n",
       "         ArmCircum  SaggitalAbdominal  GripStrength   Breast_fed  \n",
       "count  5693.000000        4378.000000   4641.000000  5296.000000  \n",
       "mean     28.397137          21.165875     63.010537     1.983761  \n",
       "std       8.085834           5.042025     25.087971     0.126404  \n",
       "min      10.400000          10.100000     10.900000     1.000000  \n",
       "25%      22.200000          17.300000     45.600000     2.000000  \n",
       "50%      29.200000          20.700000     60.400000     2.000000  \n",
       "75%      34.100000          24.475000     80.400000     2.000000  \n",
       "max      59.400000          40.100000    162.800000     2.000000  "
      ]
     },
     "execution_count": 17,
     "metadata": {},
     "output_type": "execute_result"
    }
   ],
   "source": [
    "df = df.rename(columns = {'SEQN' : 'ID',\n",
    "                          'RIAGENDR' : 'Gender',\n",
    "                          'DMDYRSUS' : 'Years_in_US',\n",
    "                          'INDFMPIR' : 'Family_income',\n",
    "                          'LBXGH' : 'GlycoHemoglobin',\n",
    "                          'BMXARMC' : 'ArmCircum',\n",
    "                          'BMDAVSAD' : 'SaggitalAbdominal',\n",
    "                          'MGDCGSZ' : 'GripStrength',\n",
    "                          'DRABF' : 'Breast_fed'})\n",
    "\n",
    "df = df.loc[:, ['ID','Gender', 'Years_in_US', 'Family_income','GlycoHemoglobin', 'ArmCircum', \n",
    "                'SaggitalAbdominal', 'GripStrength', 'Breast_fed']]\n",
    "\n",
    "df_train = df.iloc[:6000, :]\n",
    "df_train.describe()"
   ]
  },
  {
   "cell_type": "markdown",
   "metadata": {},
   "source": [
    "## 3.2 Fill in missing values (5 points)\n",
    "\n",
    "Fill in rows for both the train and test sets where the values are missing with the __fillna__ method. Use the following criteria:\n",
    "\n",
    "1. Missing Years in US - 0\n",
    "2. Missing GlycoHemoglobin - median\n",
    "3. Missing Saggital Abdominal - median\n",
    "4. Missing Arm Circum - median\n",
    "5. Missing Grip Strength - median\n",
    "6. Missing Family Income - forward fill\n",
    "7. Missing Breast Fed - 1\n",
    "8. Missing Gender - 2 \n",
    "\n",
    "Median value has to be calculated for the particular column only on the training set.<br>\n",
    "Now create a dataframe with only the desired variables for both train and test sets. Print the training set mean, standard deviation and range again."
   ]
  },
  {
   "cell_type": "code",
   "execution_count": 18,
   "metadata": {},
   "outputs": [
    {
     "data": {
      "text/html": [
       "<div>\n",
       "<style scoped>\n",
       "    .dataframe tbody tr th:only-of-type {\n",
       "        vertical-align: middle;\n",
       "    }\n",
       "\n",
       "    .dataframe tbody tr th {\n",
       "        vertical-align: top;\n",
       "    }\n",
       "\n",
       "    .dataframe thead th {\n",
       "        text-align: right;\n",
       "    }\n",
       "</style>\n",
       "<table border=\"1\" class=\"dataframe\">\n",
       "  <thead>\n",
       "    <tr style=\"text-align: right;\">\n",
       "      <th></th>\n",
       "      <th>ID</th>\n",
       "      <th>Gender</th>\n",
       "      <th>Years_in_US</th>\n",
       "      <th>Family_income</th>\n",
       "      <th>GlycoHemoglobin</th>\n",
       "      <th>ArmCircum</th>\n",
       "      <th>SaggitalAbdominal</th>\n",
       "      <th>GripStrength</th>\n",
       "      <th>Breast_fed</th>\n",
       "    </tr>\n",
       "  </thead>\n",
       "  <tbody>\n",
       "    <tr>\n",
       "      <th>count</th>\n",
       "      <td>6000.000000</td>\n",
       "      <td>6000.000000</td>\n",
       "      <td>6000.000000</td>\n",
       "      <td>6000.000000</td>\n",
       "      <td>6000.000000</td>\n",
       "      <td>6000.000000</td>\n",
       "      <td>6000.000000</td>\n",
       "      <td>6000.000000</td>\n",
       "      <td>6000.000000</td>\n",
       "    </tr>\n",
       "    <tr>\n",
       "      <th>mean</th>\n",
       "      <td>76666.999333</td>\n",
       "      <td>1.509833</td>\n",
       "      <td>1.617833</td>\n",
       "      <td>2.223903</td>\n",
       "      <td>5.572667</td>\n",
       "      <td>28.438217</td>\n",
       "      <td>21.039933</td>\n",
       "      <td>62.419250</td>\n",
       "      <td>1.868333</td>\n",
       "    </tr>\n",
       "    <tr>\n",
       "      <th>std</th>\n",
       "      <td>1797.525857</td>\n",
       "      <td>0.499945</td>\n",
       "      <td>8.337208</td>\n",
       "      <td>1.642513</td>\n",
       "      <td>0.848726</td>\n",
       "      <td>7.878207</td>\n",
       "      <td>4.311760</td>\n",
       "      <td>22.091088</td>\n",
       "      <td>0.338156</td>\n",
       "    </tr>\n",
       "    <tr>\n",
       "      <th>min</th>\n",
       "      <td>73557.000000</td>\n",
       "      <td>1.000000</td>\n",
       "      <td>0.000000</td>\n",
       "      <td>0.000000</td>\n",
       "      <td>3.700000</td>\n",
       "      <td>10.400000</td>\n",
       "      <td>10.100000</td>\n",
       "      <td>10.900000</td>\n",
       "      <td>1.000000</td>\n",
       "    </tr>\n",
       "    <tr>\n",
       "      <th>25%</th>\n",
       "      <td>75107.750000</td>\n",
       "      <td>1.000000</td>\n",
       "      <td>0.000000</td>\n",
       "      <td>0.850000</td>\n",
       "      <td>5.300000</td>\n",
       "      <td>22.900000</td>\n",
       "      <td>18.600000</td>\n",
       "      <td>50.775000</td>\n",
       "      <td>2.000000</td>\n",
       "    </tr>\n",
       "    <tr>\n",
       "      <th>50%</th>\n",
       "      <td>76667.500000</td>\n",
       "      <td>2.000000</td>\n",
       "      <td>0.000000</td>\n",
       "      <td>1.650000</td>\n",
       "      <td>5.400000</td>\n",
       "      <td>29.200000</td>\n",
       "      <td>20.700000</td>\n",
       "      <td>60.400000</td>\n",
       "      <td>2.000000</td>\n",
       "    </tr>\n",
       "    <tr>\n",
       "      <th>75%</th>\n",
       "      <td>78222.250000</td>\n",
       "      <td>2.000000</td>\n",
       "      <td>0.000000</td>\n",
       "      <td>3.580000</td>\n",
       "      <td>5.600000</td>\n",
       "      <td>33.800000</td>\n",
       "      <td>23.000000</td>\n",
       "      <td>73.000000</td>\n",
       "      <td>2.000000</td>\n",
       "    </tr>\n",
       "    <tr>\n",
       "      <th>max</th>\n",
       "      <td>79780.000000</td>\n",
       "      <td>2.000000</td>\n",
       "      <td>99.000000</td>\n",
       "      <td>5.000000</td>\n",
       "      <td>14.700000</td>\n",
       "      <td>59.400000</td>\n",
       "      <td>40.100000</td>\n",
       "      <td>162.800000</td>\n",
       "      <td>2.000000</td>\n",
       "    </tr>\n",
       "  </tbody>\n",
       "</table>\n",
       "</div>"
      ],
      "text/plain": [
       "                 ID       Gender  Years_in_US  Family_income  GlycoHemoglobin  \\\n",
       "count   6000.000000  6000.000000  6000.000000    6000.000000      6000.000000   \n",
       "mean   76666.999333     1.509833     1.617833       2.223903         5.572667   \n",
       "std     1797.525857     0.499945     8.337208       1.642513         0.848726   \n",
       "min    73557.000000     1.000000     0.000000       0.000000         3.700000   \n",
       "25%    75107.750000     1.000000     0.000000       0.850000         5.300000   \n",
       "50%    76667.500000     2.000000     0.000000       1.650000         5.400000   \n",
       "75%    78222.250000     2.000000     0.000000       3.580000         5.600000   \n",
       "max    79780.000000     2.000000    99.000000       5.000000        14.700000   \n",
       "\n",
       "         ArmCircum  SaggitalAbdominal  GripStrength   Breast_fed  \n",
       "count  6000.000000        6000.000000   6000.000000  6000.000000  \n",
       "mean     28.438217          21.039933     62.419250     1.868333  \n",
       "std       7.878207           4.311760     22.091088     0.338156  \n",
       "min      10.400000          10.100000     10.900000     1.000000  \n",
       "25%      22.900000          18.600000     50.775000     2.000000  \n",
       "50%      29.200000          20.700000     60.400000     2.000000  \n",
       "75%      33.800000          23.000000     73.000000     2.000000  \n",
       "max      59.400000          40.100000    162.800000     2.000000  "
      ]
     },
     "execution_count": 18,
     "metadata": {},
     "output_type": "execute_result"
    }
   ],
   "source": [
    "df['Years_in_US'] = df['Years_in_US'].apply(lambda x: x if x > 0 else 0)\n",
    "df['GlycoHemoglobin'] = df['GlycoHemoglobin'].fillna(df_train['GlycoHemoglobin'].median())\n",
    "df['SaggitalAbdominal'] = df['SaggitalAbdominal'].fillna(df_train['SaggitalAbdominal'].median())\n",
    "df['ArmCircum'] = df['ArmCircum'].fillna(df_train['ArmCircum'].median())\n",
    "df['GripStrength'] = df['GripStrength'].fillna(df_train['GripStrength'].median())\n",
    "df['Family_income'] = df['Family_income'].fillna(method='ffill')\n",
    "df['Breast_fed'] = df['Breast_fed'].fillna(value = 1)\n",
    "df['Gender'] = df['Gender'].fillna(value = 2)\n",
    "\n",
    "train_X = df.iloc[:6000,:]\n",
    "train_Y = target.iloc[:6000,:]\n",
    "\n",
    "test_X = df.iloc[6000:,:]\n",
    "test_Y = target.iloc[6000:,:]\n",
    "train_X.describe()\n",
    "#even though we have printed the stats of ID for completeness, we will not use ID as a feature."
   ]
  },
  {
   "cell_type": "markdown",
   "metadata": {},
   "source": [
    "## 3.3 The DataLoader (5 points)\n",
    "\n",
    "Write an error-free dataloader class in Pytorch for our dataset. \n",
    "\n",
    "If you need help in writing a dataloader class, read more about it __[here](https://pytorch.org/tutorials/beginner/data_loading_tutorial.html#dataset-class)__."
   ]
  },
  {
   "cell_type": "code",
   "execution_count": 19,
   "metadata": {},
   "outputs": [],
   "source": [
    "device = torch.device(\"cuda\" if torch.cuda.is_available() else \"cpu\")\n",
    "class MyDataset(data.Dataset):\n",
    "    \n",
    "    def __init__(self, size, inputdf, labeldf):\n",
    "        super(MyDataset, self).__init__()\n",
    "        self.size = size\n",
    "        self.inputdf = inputdf\n",
    "        self.labeldf = labeldf\n",
    "        \n",
    "    def __len__(self):\n",
    "        return self.size\n",
    "\n",
    "    def __getitem__(self, index):\n",
    "        x = torch.from_numpy(self.inputdf.iloc[index,1:].as_matrix()).float().to(device)\n",
    "        y = torch.from_numpy(self.labeldf.iloc[index,1:].as_matrix()).long().to(device)\n",
    "        return x , y"
   ]
  },
  {
   "cell_type": "markdown",
   "metadata": {},
   "source": [
    "## 3.4 The Network (5 points + 2 Bonus points)\n",
    "\n",
    "Write an error-free 2 hidden layer Multilayer Perceptron class using Pytorch. Use ReLU as the non-linearity. The hidden layer sizes are 1000-300.\n",
    "\n",
    "__Bonus__: Write a function to initialize the layer weights."
   ]
  },
  {
   "cell_type": "code",
   "execution_count": 20,
   "metadata": {},
   "outputs": [],
   "source": [
    "#used to initialize the hidden layers\n",
    "def hidden_init(layer):\n",
    "    fan_in = layer.weight.data.size()[0]\n",
    "    lim = 0.5 / np.sqrt(fan_in)\n",
    "    return (-lim, lim)\n",
    "\n",
    "class Network(nn.Module):\n",
    "    def __init__(self, input_dim, hidden1_dim, hidden2_dim, seed, init):\n",
    "        super(Network, self).__init__()\n",
    "        #have a seed for reproducability\n",
    "        self.seed = torch.manual_seed(seed)\n",
    "        self.fc1 = nn.Linear(input_dim, hidden1_dim)\n",
    "        self.fc2 = nn.Linear(hidden1_dim, hidden2_dim)\n",
    "        self.fc3 = nn.Linear(hidden2_dim, 3)\n",
    "        self.nonlin = nn.ReLU()\n",
    "        if init:\n",
    "            self.reset_parameters()\n",
    "            \n",
    "    def reset_parameters(self):\n",
    "        self.fc1.weight.data.uniform_(*hidden_init(self.fc1))\n",
    "        self.fc2.weight.data.uniform_(*hidden_init(self.fc2))\n",
    "        self.fc3.weight.data.uniform_(*hidden_init(self.fc3))\n",
    "        \n",
    "    def forward(self, x):\n",
    "        h1 = self.nonlin(self.fc1(x))\n",
    "        h2 = self.nonlin(self.fc2(h1))\n",
    "        h3 = self.fc3(h2)\n",
    "        return h3"
   ]
  },
  {
   "cell_type": "markdown",
   "metadata": {},
   "source": [
    "## 3.5 The Training phase (10 points)\n",
    "\n",
    "Write a function to train your model and the rest of the script required to run this.<br>\n",
    "Plot the average loss per epoch for 100 epochs. Report the loss values at epoch 100.<br>\n",
    "Parameters to be used are as follows:<br>\n",
    "\n",
    "Optimizer : Stochastic Gradient Descent<br>\n",
    "Learning Rate : 1e-4<br>\n",
    "Loss : Cross Entropy<br>\n",
    "Batchsize : 200<br>\n",
    "Shuffle : True"
   ]
  },
  {
   "cell_type": "code",
   "execution_count": 22,
   "metadata": {},
   "outputs": [],
   "source": [
    "def train(model, loss_criterion, optimizer, data_loader):\n",
    "    losses = []\n",
    "    avg_loss = []\n",
    "    for epoch in range(0, 100):\n",
    "        model.train()\n",
    "        epoch_loss = 0.0\n",
    "        for batch_no, (inputs, target_labels) in enumerate(data_loader):\n",
    "            \n",
    "            optimizer.zero_grad()\n",
    "            vals= model(inputs)\n",
    "            target_labels= target_labels.view(-1)\n",
    "            loss = loss_criterion(vals, target_labels)\n",
    "            epoch_loss += loss.item()\n",
    "            loss.backward()\n",
    "            optimizer.step()\n",
    "            \n",
    "        losses.append(epoch_loss)\n",
    "        avgl = epoch_loss/6000.0\n",
    "        avg_loss.append(avgl)\n",
    "        \n",
    "        print(\"Epoch: {} Loss: {:.4f} AvgLoss {:.4f}\".format(epoch, epoch_loss, avgl))\n",
    "\n",
    "    return losses, avg_loss"
   ]
  },
  {
   "cell_type": "markdown",
   "metadata": {},
   "source": [
    "## 3.6 The Testing Phase (10 points)\n",
    "\n",
    "Write a function to test your trained model.<br>Report the average test loss and the testing accuracy.<br>Also print the confusion matrix."
   ]
  },
  {
   "cell_type": "code",
   "execution_count": 23,
   "metadata": {},
   "outputs": [],
   "source": [
    "def test(model, data_loader, loss_criterion):\n",
    "    correct = 0\n",
    "    loss = 0.0\n",
    "    model.eval()\n",
    "    y_pred = []\n",
    "    y_true = []\n",
    "    for batch_no, (inputs, labels) in enumerate(data_loader):\n",
    "        \n",
    "        vals = model(inputs)\n",
    "        labels = labels.view(-1)\n",
    "        loss += loss_criterion(vals, labels)\n",
    "        log_soft = torch.nn.LogSoftmax()\n",
    "        log_soft_vals = log_soft(vals)\n",
    "        pred_labels = log_soft_vals.data.max(1)[1]\n",
    "        \n",
    "        y_pred = y_pred + pred_labels.data.tolist()\n",
    "        y_true = y_true + labels.data.tolist()\n",
    "        \n",
    "        correct += (pred_labels == labels).sum()\n",
    "    \n",
    "    return loss, correct, y_true, y_pred\n"
   ]
  },
  {
   "cell_type": "code",
   "execution_count": 24,
   "metadata": {},
   "outputs": [],
   "source": [
    "def plot_confusion_matrix(cm, classes,\n",
    "                          normalize=False,\n",
    "                          title='Confusion matrix',\n",
    "                          cmap=plt.cm.Blues):\n",
    "    \"\"\"\n",
    "    This function prints and plots the confusion matrix.\n",
    "    Normalization can be applied by setting `normalize=True`.\n",
    "    \"\"\"\n",
    "    if normalize:\n",
    "        cm = cm.astype('float') / cm.sum(axis=1)[:, np.newaxis]\n",
    "        print(\"Normalized confusion matrix\")\n",
    "    else:\n",
    "        print('Confusion matrix, without normalization')\n",
    "\n",
    "    print(cm)\n",
    "\n",
    "    plt.imshow(cm, interpolation='nearest', cmap=cmap)\n",
    "    plt.title(title)\n",
    "    plt.colorbar()\n",
    "    tick_marks = np.arange(len(classes))\n",
    "    plt.xticks(tick_marks, classes, rotation=45)\n",
    "    plt.yticks(tick_marks, classes)\n",
    "\n",
    "    fmt = '.2f' if normalize else 'd'\n",
    "    thresh = cm.max() / 2.\n",
    "    for i, j in itertools.product(range(cm.shape[0]), range(cm.shape[1])):\n",
    "        plt.text(j, i, format(cm[i, j], fmt),\n",
    "                 horizontalalignment=\"center\",\n",
    "                 color=\"white\" if cm[i, j] > thresh else \"black\")\n",
    "\n",
    "    plt.tight_layout()\n",
    "    plt.ylabel('True label')\n",
    "    plt.xlabel('Predicted label')\n",
    "\n",
    "# Compute confusion matrix\n",
    "def cm(y_true, y_pred):\n",
    "    cnf_matrix = confusion_matrix(y_true, y_pred)\n",
    "    np.set_printoptions(precision=2)\n",
    "\n",
    "    # Plot non-normalized confusion matrix\n",
    "    plt.figure()\n",
    "    class_names = ['0: None Class','1: Stage 1','2: Stage 2']\n",
    "    plot_confusion_matrix(cnf_matrix, classes=class_names,\n",
    "                          title='Confusion matrix')"
   ]
  },
  {
   "cell_type": "code",
   "execution_count": 25,
   "metadata": {},
   "outputs": [
    {
     "name": "stdout",
     "output_type": "stream",
     "text": [
      "Epoch: 0 Loss: 16.9129 AvgLoss 0.0028\n",
      "Epoch: 1 Loss: 15.5866 AvgLoss 0.0026\n",
      "Epoch: 2 Loss: 15.3986 AvgLoss 0.0026\n",
      "Epoch: 3 Loss: 15.2769 AvgLoss 0.0025\n",
      "Epoch: 4 Loss: 15.1737 AvgLoss 0.0025\n",
      "Epoch: 5 Loss: 15.0850 AvgLoss 0.0025\n",
      "Epoch: 6 Loss: 15.0118 AvgLoss 0.0025\n",
      "Epoch: 7 Loss: 14.9504 AvgLoss 0.0025\n",
      "Epoch: 8 Loss: 14.8893 AvgLoss 0.0025\n",
      "Epoch: 9 Loss: 14.8289 AvgLoss 0.0025\n",
      "Epoch: 10 Loss: 14.7702 AvgLoss 0.0025\n",
      "Epoch: 11 Loss: 14.7155 AvgLoss 0.0025\n",
      "Epoch: 12 Loss: 14.6656 AvgLoss 0.0024\n",
      "Epoch: 13 Loss: 14.6200 AvgLoss 0.0024\n",
      "Epoch: 14 Loss: 14.5778 AvgLoss 0.0024\n",
      "Epoch: 15 Loss: 14.5351 AvgLoss 0.0024\n",
      "Epoch: 16 Loss: 14.5005 AvgLoss 0.0024\n",
      "Epoch: 17 Loss: 14.4704 AvgLoss 0.0024\n",
      "Epoch: 18 Loss: 14.4395 AvgLoss 0.0024\n",
      "Epoch: 19 Loss: 14.4106 AvgLoss 0.0024\n",
      "Epoch: 20 Loss: 14.3827 AvgLoss 0.0024\n",
      "Epoch: 21 Loss: 14.3557 AvgLoss 0.0024\n",
      "Epoch: 22 Loss: 14.3259 AvgLoss 0.0024\n",
      "Epoch: 23 Loss: 14.2970 AvgLoss 0.0024\n",
      "Epoch: 24 Loss: 14.2721 AvgLoss 0.0024\n",
      "Epoch: 25 Loss: 14.2456 AvgLoss 0.0024\n",
      "Epoch: 26 Loss: 14.2249 AvgLoss 0.0024\n",
      "Epoch: 27 Loss: 14.1945 AvgLoss 0.0024\n",
      "Epoch: 28 Loss: 14.1725 AvgLoss 0.0024\n",
      "Epoch: 29 Loss: 14.1485 AvgLoss 0.0024\n",
      "Epoch: 30 Loss: 14.1287 AvgLoss 0.0024\n",
      "Epoch: 31 Loss: 14.1106 AvgLoss 0.0024\n",
      "Epoch: 32 Loss: 14.0875 AvgLoss 0.0023\n",
      "Epoch: 33 Loss: 14.0751 AvgLoss 0.0023\n",
      "Epoch: 34 Loss: 14.0546 AvgLoss 0.0023\n",
      "Epoch: 35 Loss: 14.0330 AvgLoss 0.0023\n",
      "Epoch: 36 Loss: 14.0194 AvgLoss 0.0023\n",
      "Epoch: 37 Loss: 14.0020 AvgLoss 0.0023\n",
      "Epoch: 38 Loss: 13.9838 AvgLoss 0.0023\n",
      "Epoch: 39 Loss: 13.9695 AvgLoss 0.0023\n",
      "Epoch: 40 Loss: 13.9512 AvgLoss 0.0023\n",
      "Epoch: 41 Loss: 13.9365 AvgLoss 0.0023\n",
      "Epoch: 42 Loss: 13.9177 AvgLoss 0.0023\n",
      "Epoch: 43 Loss: 13.9044 AvgLoss 0.0023\n",
      "Epoch: 44 Loss: 13.8869 AvgLoss 0.0023\n",
      "Epoch: 45 Loss: 13.8705 AvgLoss 0.0023\n",
      "Epoch: 46 Loss: 13.8554 AvgLoss 0.0023\n",
      "Epoch: 47 Loss: 13.8460 AvgLoss 0.0023\n",
      "Epoch: 48 Loss: 13.8314 AvgLoss 0.0023\n",
      "Epoch: 49 Loss: 13.8131 AvgLoss 0.0023\n",
      "Epoch: 50 Loss: 13.8035 AvgLoss 0.0023\n",
      "Epoch: 51 Loss: 13.7875 AvgLoss 0.0023\n",
      "Epoch: 52 Loss: 13.7742 AvgLoss 0.0023\n",
      "Epoch: 53 Loss: 13.7601 AvgLoss 0.0023\n",
      "Epoch: 54 Loss: 13.7467 AvgLoss 0.0023\n",
      "Epoch: 55 Loss: 13.7348 AvgLoss 0.0023\n",
      "Epoch: 56 Loss: 13.7254 AvgLoss 0.0023\n",
      "Epoch: 57 Loss: 13.7088 AvgLoss 0.0023\n",
      "Epoch: 58 Loss: 13.6956 AvgLoss 0.0023\n",
      "Epoch: 59 Loss: 13.6832 AvgLoss 0.0023\n",
      "Epoch: 60 Loss: 13.6697 AvgLoss 0.0023\n",
      "Epoch: 61 Loss: 13.6592 AvgLoss 0.0023\n",
      "Epoch: 62 Loss: 13.6481 AvgLoss 0.0023\n",
      "Epoch: 63 Loss: 13.6365 AvgLoss 0.0023\n",
      "Epoch: 64 Loss: 13.6221 AvgLoss 0.0023\n",
      "Epoch: 65 Loss: 13.6145 AvgLoss 0.0023\n",
      "Epoch: 66 Loss: 13.6005 AvgLoss 0.0023\n",
      "Epoch: 67 Loss: 13.5864 AvgLoss 0.0023\n",
      "Epoch: 68 Loss: 13.5807 AvgLoss 0.0023\n",
      "Epoch: 69 Loss: 13.5652 AvgLoss 0.0023\n",
      "Epoch: 70 Loss: 13.5534 AvgLoss 0.0023\n",
      "Epoch: 71 Loss: 13.5431 AvgLoss 0.0023\n",
      "Epoch: 72 Loss: 13.5311 AvgLoss 0.0023\n",
      "Epoch: 73 Loss: 13.5201 AvgLoss 0.0023\n",
      "Epoch: 74 Loss: 13.5110 AvgLoss 0.0023\n",
      "Epoch: 75 Loss: 13.4986 AvgLoss 0.0022\n",
      "Epoch: 76 Loss: 13.4882 AvgLoss 0.0022\n",
      "Epoch: 77 Loss: 13.4803 AvgLoss 0.0022\n",
      "Epoch: 78 Loss: 13.4683 AvgLoss 0.0022\n",
      "Epoch: 79 Loss: 13.4569 AvgLoss 0.0022\n",
      "Epoch: 80 Loss: 13.4470 AvgLoss 0.0022\n",
      "Epoch: 81 Loss: 13.4353 AvgLoss 0.0022\n",
      "Epoch: 82 Loss: 13.4243 AvgLoss 0.0022\n",
      "Epoch: 83 Loss: 13.4142 AvgLoss 0.0022\n",
      "Epoch: 84 Loss: 13.4037 AvgLoss 0.0022\n",
      "Epoch: 85 Loss: 13.3929 AvgLoss 0.0022\n",
      "Epoch: 86 Loss: 13.3846 AvgLoss 0.0022\n",
      "Epoch: 87 Loss: 13.3719 AvgLoss 0.0022\n",
      "Epoch: 88 Loss: 13.3632 AvgLoss 0.0022\n",
      "Epoch: 89 Loss: 13.3544 AvgLoss 0.0022\n",
      "Epoch: 90 Loss: 13.3426 AvgLoss 0.0022\n",
      "Epoch: 91 Loss: 13.3330 AvgLoss 0.0022\n",
      "Epoch: 92 Loss: 13.3203 AvgLoss 0.0022\n",
      "Epoch: 93 Loss: 13.3129 AvgLoss 0.0022\n",
      "Epoch: 94 Loss: 13.3009 AvgLoss 0.0022\n",
      "Epoch: 95 Loss: 13.2902 AvgLoss 0.0022\n",
      "Epoch: 96 Loss: 13.2826 AvgLoss 0.0022\n",
      "Epoch: 97 Loss: 13.2708 AvgLoss 0.0022\n",
      "Epoch: 98 Loss: 13.2627 AvgLoss 0.0022\n",
      "Epoch: 99 Loss: 13.2484 AvgLoss 0.0022\n",
      "Confusion matrix, without normalization\n",
      "[[3358    0    0]\n",
      " [ 238    0    0]\n",
      " [ 217    0    0]]\n"
     ]
    },
    {
     "data": {
      "image/png": "[encoded data removed]",
      "text/plain": [
       "<Figure size 432x288 with 2 Axes>"
      ]
     },
     "metadata": {
      "needs_background": "light"
     },
     "output_type": "display_data"
    }
   ],
   "source": [
    "device = torch.device(\"cuda\" if torch.cuda.is_available() else \"cpu\")\n",
    "\n",
    "data_train = MyDataset(6000, train_X, train_Y)\n",
    "data_test = MyDataset(3813, test_X, test_Y)\n",
    "data_train_loader = Data.DataLoader(data_train, batch_size =200, shuffle=True, num_workers=1)\n",
    "data_test_loader = Data.DataLoader(data_test, batch_size =200, shuffle=False, num_workers=1)\n",
    "\n",
    "model = Network(8,1000,300,5000,True)\n",
    "optimizer = optim.SGD(model.parameters(), lr=0.0001)\n",
    "lc = torch.nn.CrossEntropyLoss()\n",
    "\n",
    "total_loss, avg_loss = train(model, lc, optimizer, data_train_loader)\n",
    "test_total_loss, correct, y_true, y_pred = test(model, data_test_loader, lc)\n",
    "\n",
    "cm(y_true, y_pred)"
   ]
  },
  {
   "cell_type": "code",
   "execution_count": 26,
   "metadata": {},
   "outputs": [
    {
     "data": {
      "image/png": "[encoded data removed]",
      "text/plain": [
       "<Figure size 432x288 with 1 Axes>"
      ]
     },
     "metadata": {
      "needs_background": "light"
     },
     "output_type": "display_data"
    },
    {
     "name": "stdout",
     "output_type": "stream",
     "text": [
      "Total Test Loss : 9.047053337097168, Average Test Loss : 0.002372686424625536, Testing Accuracy : 0.8806713873590348\n"
     ]
    }
   ],
   "source": [
    "plt.plot(total_loss); plt.show()\n",
    "print(\"Total Test Loss : {}, Average Test Loss : {}, Testing Accuracy : {}\".format(test_total_loss.item(),test_total_loss.item()/3813.0,correct.item()/3813.0))"
   ]
  },
  {
   "cell_type": "markdown",
   "metadata": {},
   "source": [
    "## 3.7 The AUCs (5 points + 5 Bonus points)\n",
    "Now calculate the AUC of your trained model on the test set.<br>\n",
    "**(Bonus)** Use the sklearn Multiclass Logistic Regression model and fit it to our dataset. Calculate the AUC of this model. Compare the two AUCs."
   ]
  },
  {
   "cell_type": "code",
   "execution_count": 27,
   "metadata": {},
   "outputs": [
    {
     "data": {
      "image/png": "[encoded data removed]",
      "text/plain": [
       "<Figure size 432x288 with 1 Axes>"
      ]
     },
     "metadata": {
      "needs_background": "light"
     },
     "output_type": "display_data"
    },
    {
     "data": {
      "image/png": "[encoded data removed]",
      "text/plain": [
       "<Figure size 432x288 with 1 Axes>"
      ]
     },
     "metadata": {
      "needs_background": "light"
     },
     "output_type": "display_data"
    },
    {
     "data": {
      "image/png": "[encoded data removed]",
      "text/plain": [
       "<Figure size 432x288 with 1 Axes>"
      ]
     },
     "metadata": {
      "needs_background": "light"
     },
     "output_type": "display_data"
    }
   ],
   "source": [
    "fpr = dict()\n",
    "tpr = dict()\n",
    "roc_auc = dict()\n",
    "y_true = torch.Tensor(y_true).cpu().numpy()\n",
    "y_pred = torch.Tensor(y_pred).cpu().numpy()\n",
    "for i in range(3):\n",
    "    fpr[i], tpr[i], _ = roc_curve(y_true == i, y_pred == i)\n",
    "    roc_auc[i] = auc(fpr[i], tpr[i])\n",
    "    plt.plot(fpr[i], tpr[i], label = 'Class {} - AUC Score: {}'.format(i, roc_auc[i]))\n",
    "    plt.legend()\n",
    "    plt.show()"
   ]
  },
  {
   "cell_type": "code",
   "execution_count": 28,
   "metadata": {},
   "outputs": [
    {
     "name": "stdout",
     "output_type": "stream",
     "text": [
      "Multiclass Logistic regression Train Accuracy :: 0.9373333333333334\n",
      "Multiclass Logistic regression Test Accuracy :: 0.9336480461578809\n"
     ]
    },
    {
     "data": {
      "image/png": "[encoded data removed]",
      "text/plain": [
       "<Figure size 432x288 with 1 Axes>"
      ]
     },
     "metadata": {
      "needs_background": "light"
     },
     "output_type": "display_data"
    },
    {
     "data": {
      "image/png": "[encoded data removed]",
      "text/plain": [
       "<Figure size 432x288 with 1 Axes>"
      ]
     },
     "metadata": {
      "needs_background": "light"
     },
     "output_type": "display_data"
    },
    {
     "data": {
      "image/png": "[encoded data removed]",
      "text/plain": [
       "<Figure size 432x288 with 1 Axes>"
      ]
     },
     "metadata": {
      "needs_background": "light"
     },
     "output_type": "display_data"
    }
   ],
   "source": [
    "from sklearn.linear_model import LogisticRegression\n",
    "\n",
    "mul_lr = LogisticRegression(multi_class='auto').fit(train_X.iloc[:,1:], train_Y.iloc[:,1])\n",
    "\n",
    "from sklearn.metrics import confusion_matrix, accuracy_score\n",
    "print(\"Multiclass Logistic regression Train Accuracy :: {}\".format(accuracy_score(np.array(train_Y.iloc[:,1]), mul_lr.predict(train_X.iloc[:,1:]))))\n",
    "print(\"Multiclass Logistic regression Test Accuracy :: {}\".format(accuracy_score(np.array(test_Y.iloc[:,1:]), mul_lr.predict(test_X.iloc[:,1:]))))\n",
    "\n",
    "for i in range(3):\n",
    "    fpr[i], tpr[i], _ = roc_curve(test_Y.iloc[:,1:] == i, mul_lr.predict(test_X.iloc[:,1:]) == i)\n",
    "    roc_auc[i] = auc(fpr[i], tpr[i])\n",
    "    plt.plot(fpr[i], tpr[i], label = 'Class {} - AUC Score: {}'.format(i, roc_auc[i]))\n",
    "    plt.legend()\n",
    "    plt.show()"
   ]
  }
 ],
 "metadata": {
  "kernelspec": {
   "display_name": "Python 3",
   "language": "python",
   "name": "python3"
  },
  "language_info": {
   "codemirror_mode": {
    "name": "ipython",
    "version": 3
   },
   "file_extension": ".py",
   "mimetype": "text/x-python",
   "name": "python",
   "nbconvert_exporter": "python",
   "pygments_lexer": "ipython3",
   "version": "3.7.2"
  }
 },
 "nbformat": 4,
 "nbformat_minor": 2
}
